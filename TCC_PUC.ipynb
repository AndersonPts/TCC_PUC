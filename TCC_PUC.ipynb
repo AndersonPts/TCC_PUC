{
  "nbformat": 4,
  "nbformat_minor": 0,
  "metadata": {
    "colab": {
      "name": "TCC_PUC.ipynb",
      "provenance": [],
      "authorship_tag": "ABX9TyPNpB1RYr/anQijoH6rOLBr",
      "include_colab_link": true
    },
    "kernelspec": {
      "name": "python3",
      "display_name": "Python 3"
    },
    "language_info": {
      "name": "python"
    }
  },
  "cells": [
    {
      "cell_type": "markdown",
      "metadata": {
        "id": "view-in-github",
        "colab_type": "text"
      },
      "source": [
        "<a href=\"https://colab.research.google.com/github/AndersonPts/TCC_PUC/blob/main/TCC_PUC.ipynb\" target=\"_parent\"><img src=\"https://colab.research.google.com/assets/colab-badge.svg\" alt=\"Open In Colab\"/></a>"
      ]
    },
    {
      "cell_type": "code",
      "execution_count": null,
      "metadata": {
        "id": "I2KRphQyRo2d"
      },
      "outputs": [],
      "source": [
        ""
      ]
    },
    {
      "cell_type": "markdown",
      "source": [
        "**PONTIFÍCIA UNIVERSIDADE CATÓLICA DE MINAS GERAIS**\n",
        "\n",
        "Pós-graduação Lato Sensu em Inteligência Artificial e Aprendizado de Máquina\n"
      ],
      "metadata": {
        "id": "rKb6g4AiSeSU"
      }
    },
    {
      "cell_type": "markdown",
      "source": [
        "Trabalho de Conclusão de Curso apresentado ao Curso de Especialização em Inteligência Artificial e Aprendizado de Máquina, como requisito parcial à obtenção do título de Especialista."
      ],
      "metadata": {
        "id": "Zbi09ftnR1pr"
      }
    },
    {
      "cell_type": "markdown",
      "source": [
        "**ANÁLISE PREDITIVA DE RECOMENDAÇÃO PARA MERCADO DE CRIPTOATIVOS**\n",
        "\n",
        "\n",
        "\n"
      ],
      "metadata": {
        "id": "pDN3kKCwR960"
      }
    }
  ]
}